{
  "nbformat": 4,
  "nbformat_minor": 0,
  "metadata": {
    "colab": {
      "provenance": []
    },
    "kernelspec": {
      "name": "python3",
      "display_name": "Python 3"
    },
    "language_info": {
      "name": "python"
    }
  },
  "cells": [
    {
      "cell_type": "code",
      "execution_count": null,
      "metadata": {
        "id": "53QEkttfBHbz"
      },
      "outputs": [],
      "source": [
        "import pandas as pd"
      ]
    },
    {
      "cell_type": "markdown",
      "source": [
        "## 1 Load Data"
      ],
      "metadata": {
        "id": "palssKsl7wtE"
      }
    },
    {
      "cell_type": "code",
      "source": [
        "file_path = r\"path\\to\\data.xlsx\"\n",
        "sheets = ['客户损益', '收入明细', '成本明细集成']\n",
        "df_dict = pd.read_excel(file_path, sheet_name=sheets)\n",
        "\n",
        "output_file = \"output.xlsx\""
      ],
      "metadata": {
        "id": "2yZbyNS4BmQy"
      },
      "execution_count": null,
      "outputs": []
    },
    {
      "cell_type": "code",
      "source": [
        "warehouse_mapping = {\n",
        "    \"CA1\": \"美国洛杉矶1号仓\",\n",
        "    \"CA2\": \"美国洛杉矶2号仓\",\n",
        "    \"CA3\": \"美国洛杉矶3号仓\",\n",
        "    \"GA1\": \"美国亚特兰大1号仓\",\n",
        "    \"NJ1\": \"美国新泽西1号仓\",\n",
        "    \"NJ2\": \"美国新泽西2号仓\",\n",
        "    \"NJ3\": \"美国新泽西3号仓\"\n",
        "}\n",
        "\n",
        "customer_profit = df_dict['客户损益']\n",
        "warehouse_name = customer_profit['仓'].map(warehouse_mapping)\n",
        "customer_profit.drop(columns=['仓'], inplace=True)\n",
        "\n",
        "customer_profit.insert(0, '仓中文名称', warehouse_name)\n",
        "\n",
        "customer_profit['海外仓收入'] = 0\n",
        "customer_profit['仓发配成本'] = 0\n",
        "customer_profit['仓发配收入'] = 0\n",
        "\n",
        "df_dict['成本明细集成'] = df_dict['成本明细集成'].rename(columns={'成本_客户编码':'客户编码'})"
      ],
      "metadata": {
        "id": "5yqIsT3iBrcq"
      },
      "execution_count": null,
      "outputs": []
    },
    {
      "cell_type": "markdown",
      "source": [
        "## 2 Filtering Data"
      ],
      "metadata": {
        "id": "NjaPY1A78KoR"
      }
    },
    {
      "cell_type": "code",
      "source": [
        "# Filter warehouse income\n",
        "warehouse_income = df_dict['收入明细'][\n",
        "    # (df_dict['收入明细']['签约二级'] == '美洲区') &\n",
        "    (df_dict['收入明细']['产品标名称'] == '国际物流-海外仓配-海外仓产品')\n",
        "]\n",
        "\n",
        "# Filter warehouse delivery income\n",
        "warehouse_delivery_income = df_dict['收入明细'][\n",
        "    # (df_dict['收入明细']['签约二级'] == '美洲区') &\n",
        "    (df_dict['收入明细']['产品标名称'].isin([\n",
        "        '国际物流-海外仓配-海外仓产品-仓发配送',\n",
        "        '国际物流-海外仓配-海外仓产品-仓发运输'\n",
        "    ]))\n",
        "]\n",
        "\n",
        "# Filter warehouse delivery cost\n",
        "warehouse_delivery_cost = df_dict['成本明细集成'][\n",
        "    # (df_dict['收入明细']['签约二级'] == '美洲区') &\n",
        "    (df_dict['成本明细集成']['产品标名称'].isin([\n",
        "        '国际物流-海外仓配-海外仓产品-仓发配送',\n",
        "        '国际物流-海外仓配-海外仓产品-仓发运输'\n",
        "    ]))\n",
        "]\n",
        "\n",
        "# Filter delivery income\n",
        "delivery_income = df_dict['收入明细'][\n",
        "    # (df_dict['收入明细']['签约二级'] == '美洲区') &\n",
        "    (df_dict['收入明细']['产品标名称'].isin([\n",
        "        '国际物流-海外运配-海外纯配',\n",
        "        '国际物流-海外运配-海外纯配-本土配送'\n",
        "    ]))\n",
        "]\n",
        "\n",
        "# Filter delivery cost\n",
        "delivery_cost = df_dict['成本明细集成'][\n",
        "    # (df_dict['成本明细集成']['签约二级'] == '美洲区') &\n",
        "    (df_dict['成本明细集成']['产品标名称'] == '国际物流-海外运配-海外纯配')\n",
        "]\n",
        "\n",
        "# Filter transport income\n",
        "transport_income = df_dict['收入明细'][\n",
        "    # (df_dict['收入明细']['签约二级'] == '美洲区') &\n",
        "    (df_dict['收入明细']['产品标名称'].isin([\n",
        "        '国际物流-海外运配-海外运输-陆运',\n",
        "        '国际物流-跨境出口-国际运输-海运',\n",
        "        '国际物流-跨境进口-国际运输-海运',\n",
        "        '国际物流-海外运配-海外运输-空运',\n",
        "        '国际物流-跨境进口-国际运输-陆运',\n",
        "        '国际物流-海外运配-海外运输-海运',\n",
        "        '国际物流-跨境出口-国际运输-空运',\n",
        "        '国际物流-跨境出口-出口专线',\n",
        "        '国际物流-跨境进口-国际运输-空运',\n",
        "        '国际物流-跨境出口-国际运输-门到门',\n",
        "        '国际物流-跨境出口-国际快递'\n",
        "    ]))\n",
        "]\n",
        "\n",
        "# Filter transport cost\n",
        "transport_cost = df_dict['成本明细集成'][\n",
        "    # (df_dict['成本明细集成']['签约二级'] == '美洲区') &\n",
        "    (df_dict['成本明细集成']['产品标名称'].isin([\n",
        "        '国际物流-海外运配-海外运输-陆运',\n",
        "        '国际物流-跨境出口-国际运输-海运',\n",
        "        '国际物流-跨境进口-国际运输-海运',\n",
        "        '国际物流-海外运配-海外运输-空运',\n",
        "        '国际物流-跨境进口-国际运输-陆运',\n",
        "        '国际物流-海外运配-海外运输-海运',\n",
        "        '国际物流-跨境出口-国际运输-空运',\n",
        "        '国际物流-跨境出口-出口专线',\n",
        "        '国际物流-跨境进口-国际运输-空运',\n",
        "        '国际物流-跨境出口-国际运输-门到门',\n",
        "        '国际物流-跨境出口-国际快递',\n",
        "        '专线小包'\n",
        "    ]))\n",
        "]\n",
        "\n",
        "# Filter cooperator income\n",
        "cooperator_income = df_dict['收入明细'][\n",
        "    # (df_dict['收入明细']['签约二级'] == '美洲区') &\n",
        "    (df_dict['收入明细']['仓类型'] == '协同') &\n",
        "    (df_dict['收入明细']['产品标名称'].isin([\n",
        "        '国际物流-海外仓配-海外仓产品',\n",
        "        '国际物流-海外仓配-海外仓产品-仓发配送',\n",
        "        '国际物流-海外仓配-海外仓产品-仓发运输'\n",
        "    ]))\n",
        "]\n",
        "\n",
        "# Filter cooperator cost\n",
        "cooperator_cost = df_dict['成本明细集成'][\n",
        "    # (df_dict['成本明细集成']['签约二级'] == '美洲区') &\n",
        "    (df_dict['成本明细集成']['仓类型'] == '协同') &\n",
        "    (df_dict['成本明细集成']['产品标名称'].isin([\n",
        "        '国际物流-海外仓配-海外仓产品',\n",
        "        '国际物流-海外仓配-海外仓产品-仓发配送',\n",
        "        '国际物流-海外仓配-海外仓产品-仓发运输'\n",
        "    ]))\n",
        "]"
      ],
      "metadata": {
        "id": "YDZXtI9tBt1H"
      },
      "execution_count": null,
      "outputs": []
    },
    {
      "cell_type": "markdown",
      "source": [
        "## 3 Functions to Add Cost and Revenue Data to Warehouse Report"
      ],
      "metadata": {
        "id": "4VVKDFIg8MtG"
      }
    },
    {
      "cell_type": "code",
      "source": [
        "def add_cost_income(df, customer_profit, col):\n",
        "    for index, row in df.iterrows():\n",
        "        matched_rows = customer_profit[(customer_profit['KH'] == row['客户编码']) & (customer_profit['仓中文名称'] == row['仓名称'])]\n",
        "\n",
        "        if not matched_rows.empty:\n",
        "            customer_profit.loc[matched_rows.index, col] = matched_rows[col].sum() + row['不含税CNY']\n",
        "\n",
        "        elif not customer_profit[customer_profit['仓中文名称'] == row['仓名称']].empty:\n",
        "            new_row = pd.DataFrame({\n",
        "                'KH': [row['客户编码']],\n",
        "                '仓中文名称': [row['仓名称']],\n",
        "                col: [row['不含税CNY']]\n",
        "            })\n",
        "            customer_profit = pd.concat([customer_profit, new_row], ignore_index=True)\n",
        "\n",
        "    return customer_profit\n",
        "\n",
        "def update_all_customer(df, all_customer, col):\n",
        "    for index, row in df.iterrows():\n",
        "        matched_rows = all_customer[all_customer['KH'] == row['客户编码']]\n",
        "\n",
        "        if not matched_rows.empty:\n",
        "            all_customer.loc[matched_rows.index, col] = matched_rows[col].sum() + row['不含税CNY']\n",
        "        else:\n",
        "            new_row = pd.DataFrame({\n",
        "                'KH': [row['客户编码']],\n",
        "                col: [row['不含税CNY']]\n",
        "            })\n",
        "            all_customer = pd.concat([all_customer, new_row], ignore_index=True)\n",
        "\n",
        "    return all_customer"
      ],
      "metadata": {
        "id": "7wQV6N_YBy50"
      },
      "execution_count": null,
      "outputs": []
    },
    {
      "cell_type": "code",
      "source": [
        "customer_profit = add_cost_income(warehouse_income, customer_profit, '海外仓收入')\n",
        "customer_profit = add_cost_income(warehouse_delivery_cost, customer_profit, '仓发配成本')\n",
        "customer_profit = add_cost_income(warehouse_delivery_income, customer_profit, '仓发配收入')"
      ],
      "metadata": {
        "id": "NiCDOQUfBzmZ"
      },
      "execution_count": null,
      "outputs": []
    },
    {
      "cell_type": "markdown",
      "source": [
        "## 4 Calculate Profit and Loss"
      ],
      "metadata": {
        "id": "aJahtFgJ8uHy"
      }
    },
    {
      "cell_type": "code",
      "source": [
        "customer_profit = customer_profit.fillna(0)\n",
        "customer_profit['海外仓损益'] = customer_profit['海外仓收入'] - customer_profit['海外仓成本']\n",
        "customer_profit['仓发配损益'] = customer_profit['仓发配收入'] - customer_profit['仓发配成本']\n",
        "customer_profit['仓配收入'] = customer_profit['海外仓收入'] + customer_profit['仓发配收入']\n",
        "customer_profit['仓配成本'] = customer_profit['海外仓成本'] + customer_profit['仓发配成本']\n",
        "customer_profit['仓配整体损益'] = customer_profit['仓配收入'] - customer_profit['仓配成本']"
      ],
      "metadata": {
        "id": "6i0xdnVCB007"
      },
      "execution_count": null,
      "outputs": []
    },
    {
      "cell_type": "markdown",
      "source": [
        "## 5 Generate a Customer P&L Statement for All Products"
      ],
      "metadata": {
        "id": "_auq_T8K8_TC"
      }
    },
    {
      "cell_type": "code",
      "source": [
        "all_customer = customer_profit.groupby('KH').agg({\n",
        "    '海外仓损益': 'sum',\n",
        "    '仓发配损益': 'sum',\n",
        "    '仓配收入': 'sum',\n",
        "    '仓配成本': 'sum',\n",
        "    '仓配整体损益': 'sum'\n",
        "}).reset_index()\n",
        "\n",
        "all_customer['纯配成本'] = 0\n",
        "all_customer['纯配收入'] = 0\n",
        "all_customer['运输成本'] = 0\n",
        "all_customer['运输收入'] = 0\n",
        "all_customer['协同仓成本'] = 0\n",
        "all_customer['协同仓收入'] = 0\n",
        "\n",
        "all_customer = update_all_customer(delivery_cost, all_customer, '纯配成本')\n",
        "all_customer = update_all_customer(delivery_income, all_customer, '纯配收入')\n",
        "all_customer = update_all_customer(transport_cost, all_customer, '运输成本')\n",
        "all_customer = update_all_customer(transport_income, all_customer, '运输收入')\n",
        "all_customer = update_all_customer(cooperator_cost, all_customer, '协同仓成本')\n",
        "all_customer = update_all_customer(cooperator_income, all_customer, '协同仓收入')\n",
        "\n",
        "all_customer = all_customer.fillna(0)\n",
        "\n",
        "kh_0_summary = all_customer[all_customer['KH'] == 0].sum(numeric_only=True)\n",
        "kh_0_summary['KH'] = 0\n",
        "all_customer = all_customer[all_customer['KH'] != 0]\n",
        "all_customer = pd.concat([all_customer, pd.DataFrame([kh_0_summary])], ignore_index=True)\n",
        "\n",
        "all_customer['纯配损益'] = all_customer['纯配收入'] - all_customer['纯配成本']\n",
        "all_customer['运输损益'] = all_customer['运输收入'] - all_customer['运输成本']\n",
        "all_customer['协同仓损益'] = all_customer['协同仓收入'] - all_customer['协同仓成本']\n",
        "\n",
        "all_customer['收入总计'] = all_customer['纯配收入'] + all_customer['运输收入'] + all_customer['协同仓收入'] + all_customer['仓配收入']\n",
        "all_customer['成本总计'] = all_customer['纯配成本'] + all_customer['运输成本'] + all_customer['协同仓成本'] + all_customer['仓配成本']\n",
        "all_customer['总体损益'] = all_customer['收入总计'] - all_customer['成本总计']\n",
        "all_customer['毛利率'] = all_customer['总体损益']/all_customer['收入总计']\n",
        "\n",
        "all_customer.loc[(all_customer['纯配收入'] != 0) & (all_customer['纯配成本'] == 0), '纯配成本'] = '成本缺失'\n",
        "all_customer.loc[(all_customer['纯配成本'] != 0) & (all_customer['纯配收入'] == 0), '纯配收入'] = '收入缺失'\n",
        "all_customer.loc[(all_customer['运输收入'] != 0) & (all_customer['运输成本'] == 0), '运输成本'] = '成本缺失'\n",
        "all_customer.loc[(all_customer['运输成本'] != 0) & (all_customer['运输收入'] == 0), '运输收入'] = '收入缺失'\n",
        "all_customer.loc[(all_customer['协同仓收入'] != 0) & (all_customer['协同仓成本'] == 0), '协同仓成本'] = '成本缺失'\n",
        "all_customer.loc[(all_customer['协同仓成本'] != 0) & (all_customer['协同仓收入'] == 0), '协同仓收入'] = '收入缺失'\n",
        "\n",
        "with pd.ExcelWriter(output_file, engine='openpyxl') as writer:\n",
        "    all_customer.to_excel(writer, sheet_name='含纯配运输', index=False)"
      ],
      "metadata": {
        "id": "Nywds8uSB2op"
      },
      "execution_count": null,
      "outputs": []
    },
    {
      "cell_type": "markdown",
      "source": [
        "## 6 Generate a Customer in Warehouse P&L Statement"
      ],
      "metadata": {
        "id": "JjrGYUJx9lny"
      }
    },
    {
      "cell_type": "code",
      "source": [
        "columns_to_convert = ['海外仓成本', '海外仓收入', '仓发配成本', '仓发配收入', '海外仓损益', '仓发配损益', '仓配收入', '仓配成本', '仓配整体损益']\n",
        "customer_profit[columns_to_convert] = customer_profit[columns_to_convert].apply(pd.to_numeric, errors='coerce').fillna(0)\n",
        "\n",
        "subtotals = customer_profit.groupby('仓中文名称')[columns_to_convert].sum()\n",
        "\n",
        "subtotals['仓中文名称'] = subtotals.index\n",
        "subtotals['客户名称'] = \"Subtotal\"\n",
        "\n",
        "subtotal_df = pd.concat([customer_profit, subtotals], ignore_index=True)\n",
        "subtotal_df.sort_values(by=['仓中文名称', 'KH'], inplace=True)\n",
        "\n",
        "total_row = subtotal_df[subtotal_df['客户名称'] == 'Subtotal'].sum(numeric_only=True)\n",
        "total_row['仓中文名称'] = 'Total'\n",
        "total_dict = total_row.to_dict()\n",
        "customer_profit = pd.concat([subtotal_df, pd.DataFrame([total_dict])], ignore_index=True)"
      ],
      "metadata": {
        "id": "B850ILdPB6EY"
      },
      "execution_count": null,
      "outputs": []
    },
    {
      "cell_type": "code",
      "source": [
        "customer_profit.loc[(customer_profit['海外仓收入'] != 0) & (customer_profit['海外仓成本'] == 0), '海外仓成本'] = '成本缺失'\n",
        "customer_profit.loc[(customer_profit['海外仓成本'] != 0) & (customer_profit['海外仓收入'] == 0), '海外仓收入'] = '收入缺失'\n",
        "\n",
        "customer_profit.loc[(customer_profit['仓发配收入'] != 0) & (customer_profit['仓发配成本'] == 0), '仓发配成本'] = '成本缺失'\n",
        "customer_profit.loc[(customer_profit['仓发配成本'] != 0) & (customer_profit['仓发配收入'] == 0), '仓发配收入'] = '收入缺失'"
      ],
      "metadata": {
        "id": "t4F6xs3QCBxh"
      },
      "execution_count": null,
      "outputs": []
    },
    {
      "cell_type": "code",
      "source": [
        "with pd.ExcelWriter(output_file, engine='openpyxl', mode='a') as writer:\n",
        "    customer_profit.to_excel(writer, sheet_name='自营仓整体', index=False)"
      ],
      "metadata": {
        "id": "tjHZdLhKCCav"
      },
      "execution_count": null,
      "outputs": []
    }
  ]
}